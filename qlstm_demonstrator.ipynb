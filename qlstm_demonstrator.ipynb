{
 "cells": [
  {
   "cell_type": "code",
<<<<<<< Updated upstream
   "execution_count": 9,
=======
   "execution_count": 1,
>>>>>>> Stashed changes
   "metadata": {},
   "outputs": [
    {
     "name": "stderr",
     "output_type": "stream",
     "text": [
      "/Users/stefan.kister/opt/virtual/quiskit_v10x/lib/python3.9/site-packages/urllib3/__init__.py:35: NotOpenSSLWarning: urllib3 v2 only supports OpenSSL 1.1.1+, currently the 'ssl' module is compiled with 'LibreSSL 2.8.3'. See: https://github.com/urllib3/urllib3/issues/3020\n",
      "  warnings.warn(\n"
     ]
    }
   ],
   "source": [
    "import utils.custom_nn as cn\n",
    "import utils.ansatz as ansatz\n",
    "import utils.feature_map as fm\n",
    "import torch\n",
    "import utils.data_processing as dp\n",
    "import pandas as pd\n",
    "\n",
    "import torch.nn as nn\n",
    "import torchmetrics\n",
    "\n",
    "from utils.noise_models import qe_noise_model, th_noise_model, ro_noise_model\n",
    "from qiskit.primitives import BackendEstimator\n",
    "from utils.backends import qw_contralto, ibm_5q, ibm_127q, aer_sv, aer_dm, aer_mps"
   ]
  },
  {
   "cell_type": "code",
<<<<<<< Updated upstream
   "execution_count": 10,
=======
   "execution_count": 2,
>>>>>>> Stashed changes
   "metadata": {},
   "outputs": [],
   "source": [
    "import warnings\n",
    "\n",
    "# ignore off UserWarnings\n",
    "warnings.filterwarnings(\"ignore\", category=UserWarning)"
   ]
  },
  {
   "cell_type": "code",
<<<<<<< Updated upstream
   "execution_count": 14,
=======
   "execution_count": 3,
>>>>>>> Stashed changes
   "metadata": {},
   "outputs": [],
   "source": [
    "# Data parameters:\n",
    "DATA_PATH = \"data/data_damped_oscillator.csv\"\n",
    "# DATA_PATH = \"data/custom_created_pattern.csv\"\n",
    "TIME_SEQUENCE = 4\n",
    "\n",
    "# Model parameters:\n",
    "#INPUT_SIZE = 1 # the input feature dimension, in our case with functions always 1\n",
    "#HIDDEN_SIZE = 1 #dimension of the hidden state, represents the size or dimensionality of the hidden state in the LSTM\n",
    "\n",
    "# Training parameters:\n",
    "TRAIN_TEST_SPLIT = 0.67\n",
    "NUM_EPOCHS = 15\n",
    "BATCH_SIZE = 16\n",
    "LEARNING_RATE = 0.01\n",
    "\n",
    "# Quantum Circuits\n",
    "num_qubits = 4\n",
    "FEATURE_MAP = fm.FeatureMap_4(num_qubits)\n",
    "ANSATZ = ansatz.VariationalLayer_4(num_qubits)\n",
    "PAPER = \"my_own\"\n",
    "\n",
    "# Quantum backend definitions\n",
    "noise_model = ro_noise_model(0.05, 0.05)\n",
    "backend = aer_sv()\n",
    "#estimator = BackendEstimator(backend, options={\"noise_model\": noise_model})\n",
    "\n",
    "REPS = 2\n",
    "\n",
    "TEST_RUNS = 3"
   ]
  },
  {
   "cell_type": "code",
<<<<<<< Updated upstream
   "execution_count": 15,
=======
   "execution_count": 4,
>>>>>>> Stashed changes
   "metadata": {},
   "outputs": [
    {
     "name": "stdout",
     "output_type": "stream",
     "text": [
      "All shapes are correct.\n"
     ]
    }
   ],
   "source": [
    "# load the data\n",
    "data = pd.read_csv(DATA_PATH, usecols=[\"y\"])\n",
    "\n",
    "# preprocess and split data - data_processing() from data_processing.py\n",
    "input_train, target_train, input_test, target_test = dp.data_processing(data, time_sequence=TIME_SEQUENCE, train_test_split=TRAIN_TEST_SPLIT, reshape_inputs=True)\n",
    "\n",
    "# create a TensorDataset from input and target tensors\n",
    "train_dataset = torch.utils.data.TensorDataset(input_train, target_train)\n",
    "\n",
    "# create a DataLoader for efficient batch processing\n",
    "data_loader = torch.utils.data.DataLoader(train_dataset, batch_size=BATCH_SIZE, shuffle=False)\n",
    "# generator and worker_init_fn is used to assure reproducibility (https://pytorch.org/docs/stable/notes/randomness.html Section: DataLoader)\n",
    "\n",
    "\n",
    "# reshape the the target(_test & _train) tensor [len, 1, 1] - to match the shape of the pred tensor [len, 1]\n",
    "target_test_reshape = target_test.reshape(len(target_test), 1)\n",
    "target_train_reshape = target_train.reshape(len(target_train), 1)"
   ]
  },
  {
   "cell_type": "code",
<<<<<<< Updated upstream
   "execution_count": 16,
=======
   "execution_count": null,
>>>>>>> Stashed changes
   "metadata": {},
   "outputs": [
    {
     "name": "stdout",
     "output_type": "stream",
     "text": [
      "\n",
      "Run [1/3]\n",
<<<<<<< Updated upstream
      "Epoch [1/15]: Batch Number [1/13]"
     ]
    },
    {
     "ename": "RuntimeError",
     "evalue": "mat1 and mat2 shapes cannot be multiplied (1x5 and 2x1)",
     "output_type": "error",
     "traceback": [
      "\u001b[0;31m---------------------------------------------------------------------------\u001b[0m",
      "\u001b[0;31mRuntimeError\u001b[0m                              Traceback (most recent call last)",
      "Cell \u001b[0;32mIn[16], line 37\u001b[0m\n\u001b[1;32m     34\u001b[0m optimizer\u001b[38;5;241m.\u001b[39mzero_grad()\n\u001b[1;32m     36\u001b[0m \u001b[38;5;66;03m# forward pass\u001b[39;00m\n\u001b[0;32m---> 37\u001b[0m output , (_, _) \u001b[38;5;241m=\u001b[39m \u001b[43mq_lstm\u001b[49m\u001b[43m(\u001b[49m\u001b[43mbatch_input\u001b[49m\u001b[43m)\u001b[49m\n\u001b[1;32m     38\u001b[0m \u001b[38;5;66;03m# compute the loss\u001b[39;00m\n\u001b[1;32m     39\u001b[0m loss \u001b[38;5;241m=\u001b[39m loss_function(output, batch_target\u001b[38;5;241m.\u001b[39mreshape(\u001b[38;5;28mlen\u001b[39m(batch_target), \u001b[38;5;241m1\u001b[39m))\n",
      "File \u001b[0;32m~/opt/virtual/quiskit_v10x/lib/python3.9/site-packages/torch/nn/modules/module.py:1532\u001b[0m, in \u001b[0;36mModule._wrapped_call_impl\u001b[0;34m(self, *args, **kwargs)\u001b[0m\n\u001b[1;32m   1530\u001b[0m     \u001b[38;5;28;01mreturn\u001b[39;00m \u001b[38;5;28mself\u001b[39m\u001b[38;5;241m.\u001b[39m_compiled_call_impl(\u001b[38;5;241m*\u001b[39margs, \u001b[38;5;241m*\u001b[39m\u001b[38;5;241m*\u001b[39mkwargs)  \u001b[38;5;66;03m# type: ignore[misc]\u001b[39;00m\n\u001b[1;32m   1531\u001b[0m \u001b[38;5;28;01melse\u001b[39;00m:\n\u001b[0;32m-> 1532\u001b[0m     \u001b[38;5;28;01mreturn\u001b[39;00m \u001b[38;5;28;43mself\u001b[39;49m\u001b[38;5;241;43m.\u001b[39;49m\u001b[43m_call_impl\u001b[49m\u001b[43m(\u001b[49m\u001b[38;5;241;43m*\u001b[39;49m\u001b[43margs\u001b[49m\u001b[43m,\u001b[49m\u001b[43m \u001b[49m\u001b[38;5;241;43m*\u001b[39;49m\u001b[38;5;241;43m*\u001b[39;49m\u001b[43mkwargs\u001b[49m\u001b[43m)\u001b[49m\n",
      "File \u001b[0;32m~/opt/virtual/quiskit_v10x/lib/python3.9/site-packages/torch/nn/modules/module.py:1541\u001b[0m, in \u001b[0;36mModule._call_impl\u001b[0;34m(self, *args, **kwargs)\u001b[0m\n\u001b[1;32m   1536\u001b[0m \u001b[38;5;66;03m# If we don't have any hooks, we want to skip the rest of the logic in\u001b[39;00m\n\u001b[1;32m   1537\u001b[0m \u001b[38;5;66;03m# this function, and just call forward.\u001b[39;00m\n\u001b[1;32m   1538\u001b[0m \u001b[38;5;28;01mif\u001b[39;00m \u001b[38;5;129;01mnot\u001b[39;00m (\u001b[38;5;28mself\u001b[39m\u001b[38;5;241m.\u001b[39m_backward_hooks \u001b[38;5;129;01mor\u001b[39;00m \u001b[38;5;28mself\u001b[39m\u001b[38;5;241m.\u001b[39m_backward_pre_hooks \u001b[38;5;129;01mor\u001b[39;00m \u001b[38;5;28mself\u001b[39m\u001b[38;5;241m.\u001b[39m_forward_hooks \u001b[38;5;129;01mor\u001b[39;00m \u001b[38;5;28mself\u001b[39m\u001b[38;5;241m.\u001b[39m_forward_pre_hooks\n\u001b[1;32m   1539\u001b[0m         \u001b[38;5;129;01mor\u001b[39;00m _global_backward_pre_hooks \u001b[38;5;129;01mor\u001b[39;00m _global_backward_hooks\n\u001b[1;32m   1540\u001b[0m         \u001b[38;5;129;01mor\u001b[39;00m _global_forward_hooks \u001b[38;5;129;01mor\u001b[39;00m _global_forward_pre_hooks):\n\u001b[0;32m-> 1541\u001b[0m     \u001b[38;5;28;01mreturn\u001b[39;00m \u001b[43mforward_call\u001b[49m\u001b[43m(\u001b[49m\u001b[38;5;241;43m*\u001b[39;49m\u001b[43margs\u001b[49m\u001b[43m,\u001b[49m\u001b[43m \u001b[49m\u001b[38;5;241;43m*\u001b[39;49m\u001b[38;5;241;43m*\u001b[39;49m\u001b[43mkwargs\u001b[49m\u001b[43m)\u001b[49m\n\u001b[1;32m   1543\u001b[0m \u001b[38;5;28;01mtry\u001b[39;00m:\n\u001b[1;32m   1544\u001b[0m     result \u001b[38;5;241m=\u001b[39m \u001b[38;5;28;01mNone\u001b[39;00m\n",
      "File \u001b[0;32m~/quantum coding/qiskit_v10x_coding/qlstm-with-qiskit-and-pytorch/utils/custom_nn.py:125\u001b[0m, in \u001b[0;36mQuantumLongShortTermMemory.forward\u001b[0;34m(self, X, memory_states)\u001b[0m\n\u001b[1;32m    123\u001b[0m \u001b[38;5;28;01mfor\u001b[39;00m sample_x \u001b[38;5;129;01min\u001b[39;00m X: \n\u001b[1;32m    124\u001b[0m     v_t \u001b[38;5;241m=\u001b[39m torch\u001b[38;5;241m.\u001b[39mcat([sample_x, h_t], dim\u001b[38;5;241m=\u001b[39m\u001b[38;5;241m0\u001b[39m)\n\u001b[0;32m--> 125\u001b[0m     v_t_input \u001b[38;5;241m=\u001b[39m \u001b[38;5;28;43mself\u001b[39;49m\u001b[38;5;241;43m.\u001b[39;49m\u001b[43minput_layer\u001b[49m\u001b[43m(\u001b[49m\u001b[43mv_t\u001b[49m\u001b[38;5;241;43m.\u001b[39;49m\u001b[43mreshape\u001b[49m\u001b[43m(\u001b[49m\u001b[38;5;241;43m1\u001b[39;49m\u001b[43m,\u001b[49m\u001b[43m \u001b[49m\u001b[38;5;241;43m-\u001b[39;49m\u001b[38;5;241;43m1\u001b[39;49m\u001b[43m)\u001b[49m\u001b[43m)\u001b[49m\u001b[38;5;241m.\u001b[39mreshape(\u001b[38;5;241m-\u001b[39m\u001b[38;5;241m1\u001b[39m)\n\u001b[1;32m    126\u001b[0m     \u001b[38;5;66;03m# QNN layer\u001b[39;00m\n\u001b[1;32m    127\u001b[0m     f_t \u001b[38;5;241m=\u001b[39m torch\u001b[38;5;241m.\u001b[39msigmoid(\u001b[38;5;28mself\u001b[39m\u001b[38;5;241m.\u001b[39mqnn_layer[\u001b[38;5;124m\"\u001b[39m\u001b[38;5;124m1\u001b[39m\u001b[38;5;124m\"\u001b[39m](v_t_input))\n",
      "File \u001b[0;32m~/opt/virtual/quiskit_v10x/lib/python3.9/site-packages/torch/nn/modules/module.py:1532\u001b[0m, in \u001b[0;36mModule._wrapped_call_impl\u001b[0;34m(self, *args, **kwargs)\u001b[0m\n\u001b[1;32m   1530\u001b[0m     \u001b[38;5;28;01mreturn\u001b[39;00m \u001b[38;5;28mself\u001b[39m\u001b[38;5;241m.\u001b[39m_compiled_call_impl(\u001b[38;5;241m*\u001b[39margs, \u001b[38;5;241m*\u001b[39m\u001b[38;5;241m*\u001b[39mkwargs)  \u001b[38;5;66;03m# type: ignore[misc]\u001b[39;00m\n\u001b[1;32m   1531\u001b[0m \u001b[38;5;28;01melse\u001b[39;00m:\n\u001b[0;32m-> 1532\u001b[0m     \u001b[38;5;28;01mreturn\u001b[39;00m \u001b[38;5;28;43mself\u001b[39;49m\u001b[38;5;241;43m.\u001b[39;49m\u001b[43m_call_impl\u001b[49m\u001b[43m(\u001b[49m\u001b[38;5;241;43m*\u001b[39;49m\u001b[43margs\u001b[49m\u001b[43m,\u001b[49m\u001b[43m \u001b[49m\u001b[38;5;241;43m*\u001b[39;49m\u001b[38;5;241;43m*\u001b[39;49m\u001b[43mkwargs\u001b[49m\u001b[43m)\u001b[49m\n",
      "File \u001b[0;32m~/opt/virtual/quiskit_v10x/lib/python3.9/site-packages/torch/nn/modules/module.py:1541\u001b[0m, in \u001b[0;36mModule._call_impl\u001b[0;34m(self, *args, **kwargs)\u001b[0m\n\u001b[1;32m   1536\u001b[0m \u001b[38;5;66;03m# If we don't have any hooks, we want to skip the rest of the logic in\u001b[39;00m\n\u001b[1;32m   1537\u001b[0m \u001b[38;5;66;03m# this function, and just call forward.\u001b[39;00m\n\u001b[1;32m   1538\u001b[0m \u001b[38;5;28;01mif\u001b[39;00m \u001b[38;5;129;01mnot\u001b[39;00m (\u001b[38;5;28mself\u001b[39m\u001b[38;5;241m.\u001b[39m_backward_hooks \u001b[38;5;129;01mor\u001b[39;00m \u001b[38;5;28mself\u001b[39m\u001b[38;5;241m.\u001b[39m_backward_pre_hooks \u001b[38;5;129;01mor\u001b[39;00m \u001b[38;5;28mself\u001b[39m\u001b[38;5;241m.\u001b[39m_forward_hooks \u001b[38;5;129;01mor\u001b[39;00m \u001b[38;5;28mself\u001b[39m\u001b[38;5;241m.\u001b[39m_forward_pre_hooks\n\u001b[1;32m   1539\u001b[0m         \u001b[38;5;129;01mor\u001b[39;00m _global_backward_pre_hooks \u001b[38;5;129;01mor\u001b[39;00m _global_backward_hooks\n\u001b[1;32m   1540\u001b[0m         \u001b[38;5;129;01mor\u001b[39;00m _global_forward_hooks \u001b[38;5;129;01mor\u001b[39;00m _global_forward_pre_hooks):\n\u001b[0;32m-> 1541\u001b[0m     \u001b[38;5;28;01mreturn\u001b[39;00m \u001b[43mforward_call\u001b[49m\u001b[43m(\u001b[49m\u001b[38;5;241;43m*\u001b[39;49m\u001b[43margs\u001b[49m\u001b[43m,\u001b[49m\u001b[43m \u001b[49m\u001b[38;5;241;43m*\u001b[39;49m\u001b[38;5;241;43m*\u001b[39;49m\u001b[43mkwargs\u001b[49m\u001b[43m)\u001b[49m\n\u001b[1;32m   1543\u001b[0m \u001b[38;5;28;01mtry\u001b[39;00m:\n\u001b[1;32m   1544\u001b[0m     result \u001b[38;5;241m=\u001b[39m \u001b[38;5;28;01mNone\u001b[39;00m\n",
      "File \u001b[0;32m~/opt/virtual/quiskit_v10x/lib/python3.9/site-packages/torch/nn/modules/linear.py:116\u001b[0m, in \u001b[0;36mLinear.forward\u001b[0;34m(self, input)\u001b[0m\n\u001b[1;32m    115\u001b[0m \u001b[38;5;28;01mdef\u001b[39;00m \u001b[38;5;21mforward\u001b[39m(\u001b[38;5;28mself\u001b[39m, \u001b[38;5;28minput\u001b[39m: Tensor) \u001b[38;5;241m-\u001b[39m\u001b[38;5;241m>\u001b[39m Tensor:\n\u001b[0;32m--> 116\u001b[0m     \u001b[38;5;28;01mreturn\u001b[39;00m \u001b[43mF\u001b[49m\u001b[38;5;241;43m.\u001b[39;49m\u001b[43mlinear\u001b[49m\u001b[43m(\u001b[49m\u001b[38;5;28;43minput\u001b[39;49m\u001b[43m,\u001b[49m\u001b[43m \u001b[49m\u001b[38;5;28;43mself\u001b[39;49m\u001b[38;5;241;43m.\u001b[39;49m\u001b[43mweight\u001b[49m\u001b[43m,\u001b[49m\u001b[43m \u001b[49m\u001b[38;5;28;43mself\u001b[39;49m\u001b[38;5;241;43m.\u001b[39;49m\u001b[43mbias\u001b[49m\u001b[43m)\u001b[49m\n",
      "\u001b[0;31mRuntimeError\u001b[0m: mat1 and mat2 shapes cannot be multiplied (1x5 and 2x1)"
=======
      "Epoch [2/15]: Batch Number [9/13]]"
>>>>>>> Stashed changes
     ]
    }
   ],
   "source": [
    "for run in range(TEST_RUNS):\n",
    "    print(f\"\\nRun [{run+1}/{TEST_RUNS}]\")\n",
    "    run_metrics = {\"model_name\": \"QLSTM\", \"data\": DATA_PATH, \"epochs\": NUM_EPOCHS, \"Reps\": REPS, \"FeatureMap\": PAPER, \"Ansatze\": PAPER}\n",
    "\n",
    "    # initialize the model\n",
    "    q_lstm = cn.QuantumLongShortTermMemory(FEATURE_MAP, ANSATZ, REPS, INPUT_SIZE, HIDDEN_SIZE)\n",
    "\n",
    "    # initialize the loss function and optimizer\n",
    "    loss_function = nn.MSELoss()\n",
    "    optimizer = torch.optim.Adam(q_lstm.parameters(), lr=LEARNING_RATE)\n",
    "\n",
    "    # set the model to training mode\n",
    "    q_lstm.train() \n",
    "\n",
    "    # training loop\n",
    "    losses = []\n",
    "\n",
    "    # get the number of batches to process\n",
    "    if len(train_dataset) % BATCH_SIZE == 0:\n",
    "        num_batches = len(train_dataset) // BATCH_SIZE\n",
    "    else:\n",
    "        num_batches = len(train_dataset) // BATCH_SIZE + 1\n",
    "\n",
    "    for epoch in range(NUM_EPOCHS):\n",
    "        # clear gradients them out before each instance\n",
    "        q_lstm.zero_grad()\n",
    "\n",
    "        running_loss = 0.0\n",
    "        batch_num = 1\n",
    "        for batch_input, batch_target in data_loader:\n",
    "            print(f\"\\rEpoch [{epoch+1}/{NUM_EPOCHS}]: Batch Number [{batch_num}/{num_batches}]\", end=\"\", flush=True)\n",
    "            batch_num += 1\n",
    "            # zero the gradients\n",
    "            optimizer.zero_grad()\n",
    "\n",
    "            # forward pass\n",
    "            output , (_, _) = q_lstm(batch_input)\n",
    "            # compute the loss\n",
    "            loss = loss_function(output, batch_target.reshape(len(batch_target), 1))\n",
    "\n",
    "            # backward pass\n",
    "            loss.backward()\n",
    "\n",
    "            # update the weights\n",
    "            optimizer.step()\n",
    "\n",
    "            # accumulate the loss\n",
    "            running_loss += loss.item()\n",
    "\n",
    "        # compute the average loss for the epoch\n",
    "        epoch_loss = running_loss / len(data_loader)\n",
    "\n",
    "        # save the loss for the epoch\n",
    "        run_metrics[f\"loss_epoch_{epoch+1}\"] = epoch_loss\n",
    "\n",
    "    # get evaluation metrics\n",
    "    # set the model to evaluation mode\n",
    "    q_lstm.eval()  \n",
    "\n",
    "    # predict the test set\n",
    "    with torch.no_grad():\n",
    "        ### prediction for the test set\n",
    "        pred_test, (_, _) = q_lstm(input_test)\n",
    "        # calculate errors\n",
    "        pred_test = pred_test.reshape(len(target_test_reshape), 1)\n",
    "\n",
    "        mean_squared_error = nn.MSELoss()\n",
    "        mse_test = mean_squared_error(pred_test, target_test_reshape)\n",
    "\n",
    "        mean_abs_error = torchmetrics.MeanAbsoluteError()\n",
    "        mae_test = mean_abs_error(pred_test, target_test_reshape)\n",
    "\n",
    "        ### prediction for the train set\n",
    "        pred_train, (_, _) = q_lstm(input_train)\n",
    "\n",
    "        mean_squared_error = nn.MSELoss()\n",
    "        pred_train = pred_train.reshape(len(target_train_reshape), 1)\n",
    "        mse_train = mean_squared_error(pred_train, target_train_reshape)\n",
    "\n",
    "        mean_abs_error = torchmetrics.MeanAbsoluteError()\n",
    "        mae_train = mean_abs_error(pred_train, target_train_reshape)\n",
    "\n",
    "    run_metrics[\"mse_train\"] = mse_train.item()\n",
    "    run_metrics[\"mse_test\"] = mse_test.item()\n",
    "    run_metrics[\"mae_train\"] = mae_train.item()\n",
    "    run_metrics[\"mae_test\"] = mae_test.item()\n",
    "\n",
    "    # save metrics for the run\n",
    "    metrics = pd.read_csv(\"data/qlstm_metrics.csv\")\n",
    "    # Append the new row to the DataFrame\n",
    "    metrics = pd.concat([metrics, pd.DataFrame([run_metrics])], ignore_index=True)\n",
    "    # save metrics\n",
    "    metrics.to_csv(\"data/qlstm_metrics.csv\", index=False)"
   ]
  },
  {
   "cell_type": "code",
   "execution_count": null,
   "metadata": {},
   "outputs": [],
   "source": []
  },
  {
   "cell_type": "code",
   "execution_count": null,
   "metadata": {},
   "outputs": [],
   "source": []
  }
 ],
 "metadata": {
  "kernelspec": {
   "display_name": "Python 3 (ipykernel)",
   "language": "python",
   "name": "python3"
  },
  "language_info": {
   "codemirror_mode": {
    "name": "ipython",
    "version": 3
   },
   "file_extension": ".py",
   "mimetype": "text/x-python",
   "name": "python",
   "nbconvert_exporter": "python",
   "pygments_lexer": "ipython3",
   "version": "3.9.6"
  }
 },
 "nbformat": 4,
 "nbformat_minor": 4
}
